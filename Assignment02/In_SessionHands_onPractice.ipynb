{
  "nbformat": 4,
  "nbformat_minor": 0,
  "metadata": {
    "colab": {
      "name": "In-SessionHands-onPractice.ipynb",
      "provenance": [],
      "authorship_tag": "ABX9TyPa/cbjZvGDwi7Po34+vmqX",
      "include_colab_link": true
    },
    "kernelspec": {
      "name": "python3",
      "display_name": "Python 3"
    },
    "language_info": {
      "name": "python"
    }
  },
  "cells": [
    {
      "cell_type": "markdown",
      "metadata": {
        "id": "view-in-github",
        "colab_type": "text"
      },
      "source": [
        "<a href=\"https://colab.research.google.com/github/SwapanGupt/data690_SwapanGupta/blob/main/Assignment02/In_SessionHands_onPractice.ipynb\" target=\"_parent\"><img src=\"https://colab.research.google.com/assets/colab-badge.svg\" alt=\"Open In Colab\"/></a>"
      ]
    },
    {
      "cell_type": "markdown",
      "metadata": {
        "id": "9KP-iI9u_HPQ"
      },
      "source": [
        "# In-Session Hands-on Practice\n",
        "Swapan Gupta\n",
        "\n"
      ]
    },
    {
      "cell_type": "markdown",
      "metadata": {
        "id": "efytCvLhBjJL"
      },
      "source": [
        "# 1. Simple Types\n"
      ]
    },
    {
      "cell_type": "code",
      "metadata": {
        "colab": {
          "base_uri": "https://localhost:8080/"
        },
        "id": "aR9lJN9e-_td",
        "outputId": "3c4e8e86-e541-4c82-90ee-6679dceb2788"
      },
      "source": [
        "x = 5 #integer\n",
        "y = 0.5 #float\n",
        "s = \"Hi\" #String\n",
        "print(x,y,s)"
      ],
      "execution_count": 1,
      "outputs": [
        {
          "output_type": "stream",
          "name": "stdout",
          "text": [
            "5 0.5 Hi\n"
          ]
        }
      ]
    },
    {
      "cell_type": "markdown",
      "metadata": {
        "id": "lIt4XaafB2Du"
      },
      "source": [
        "# 2. Collection Type\n"
      ]
    },
    {
      "cell_type": "code",
      "metadata": {
        "colab": {
          "base_uri": "https://localhost:8080/"
        },
        "id": "3_bZ8Ve3B6v8",
        "outputId": "9cba7bc5-d33a-4156-ae67-627a82b3f1e9"
      },
      "source": [
        "a_list = [ 1,2,3,4]\n",
        "print(a_list)\n"
      ],
      "execution_count": 2,
      "outputs": [
        {
          "output_type": "stream",
          "name": "stdout",
          "text": [
            "[1, 2, 3, 4]\n"
          ]
        }
      ]
    },
    {
      "cell_type": "markdown",
      "metadata": {
        "id": "bETQJ879CC3D"
      },
      "source": [
        "# 3.Loop\n"
      ]
    },
    {
      "cell_type": "code",
      "metadata": {
        "colab": {
          "base_uri": "https://localhost:8080/"
        },
        "id": "9XofijxoCFr5",
        "outputId": "20e30f69-1daa-4e74-d72b-51c960ce3275"
      },
      "source": [
        "for i in a_list:\n",
        "    print(i)\n",
        "    "
      ],
      "execution_count": 3,
      "outputs": [
        {
          "output_type": "stream",
          "name": "stdout",
          "text": [
            "1\n",
            "2\n",
            "3\n",
            "4\n"
          ]
        }
      ]
    },
    {
      "cell_type": "markdown",
      "metadata": {
        "id": "GjH2OuoICQ6w"
      },
      "source": [
        "# 4. Conditions\n"
      ]
    },
    {
      "cell_type": "code",
      "metadata": {
        "colab": {
          "base_uri": "https://localhost:8080/"
        },
        "id": "L1IVErO3CUbF",
        "outputId": "361fab4d-87db-434e-c8d0-2201b6d2294e"
      },
      "source": [
        "print(10%2) #Modula\n"
      ],
      "execution_count": 4,
      "outputs": [
        {
          "output_type": "stream",
          "name": "stdout",
          "text": [
            "0\n"
          ]
        }
      ]
    },
    {
      "cell_type": "code",
      "metadata": {
        "colab": {
          "base_uri": "https://localhost:8080/"
        },
        "id": "1lnPINGfClaP",
        "outputId": "2ba4f298-32dd-46d1-f4a2-78093c6daff8"
      },
      "source": [
        "print(23%2) #modula\n"
      ],
      "execution_count": 5,
      "outputs": [
        {
          "output_type": "stream",
          "name": "stdout",
          "text": [
            "1\n"
          ]
        }
      ]
    },
    {
      "cell_type": "code",
      "metadata": {
        "colab": {
          "base_uri": "https://localhost:8080/"
        },
        "id": "z358BD-zDBle",
        "outputId": "7f770da6-25e4-4503-90a8-86d1d37b422f"
      },
      "source": [
        "for i in a_list:\n",
        "    if i%2==1:\n",
        "     print(\"Odd Number\",i)\n",
        "    "
      ],
      "execution_count": 7,
      "outputs": [
        {
          "output_type": "stream",
          "name": "stdout",
          "text": [
            "Odd Number 1\n",
            "Odd Number 3\n"
          ]
        }
      ]
    }
  ]
}