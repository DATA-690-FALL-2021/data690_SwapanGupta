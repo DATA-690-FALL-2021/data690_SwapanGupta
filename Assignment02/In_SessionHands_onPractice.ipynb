{
  "nbformat": 4,
  "nbformat_minor": 0,
  "metadata": {
    "colab": {
      "name": "In-SessionHands-onPractice.ipynb",
      "provenance": [],
      "authorship_tag": "ABX9TyNgXcxMxgrRW8I3EaFiyC1q",
      "include_colab_link": true
    },
    "kernelspec": {
      "name": "python3",
      "display_name": "Python 3"
    },
    "language_info": {
      "name": "python"
    }
  },
  "cells": [
    {
      "cell_type": "markdown",
      "metadata": {
        "id": "view-in-github",
        "colab_type": "text"
      },
      "source": [
        "<a href=\"https://colab.research.google.com/github/SwapanGupt/data690_SwapanGupta/blob/main/Assignment02/In_SessionHands_onPractice.ipynb\" target=\"_parent\"><img src=\"https://colab.research.google.com/assets/colab-badge.svg\" alt=\"Open In Colab\"/></a>"
      ]
    },
    {
      "cell_type": "markdown",
      "metadata": {
        "id": "9KP-iI9u_HPQ"
      },
      "source": [
        "# In-Session Hands-on Practice\n",
        "Swapan Gupta\n",
        "\n"
      ]
    },
    {
      "cell_type": "markdown",
      "metadata": {
        "id": "efytCvLhBjJL"
      },
      "source": [
        "# 1. Simple Types\n",
        "- int\n",
        "- str\n",
        "- float\n",
        "- boolean(True/False)\n",
        "- NaN(Not an Number,Null Number"
      ]
    },
    {
      "cell_type": "code",
      "metadata": {
        "colab": {
          "base_uri": "https://localhost:8080/"
        },
        "id": "aR9lJN9e-_td",
        "outputId": "3c4e8e86-e541-4c82-90ee-6679dceb2788"
      },
      "source": [
        "x = 5 #integer\n",
        "y = 0.5 #float\n",
        "s = \"Hi\" #String\n",
        "print(x,y,s)"
      ],
      "execution_count": 1,
      "outputs": [
        {
          "output_type": "stream",
          "name": "stdout",
          "text": [
            "5 0.5 Hi\n"
          ]
        }
      ]
    },
    {
      "cell_type": "markdown",
      "metadata": {
        "id": "lIt4XaafB2Du"
      },
      "source": [
        "# 2. Collection Type\n"
      ]
    },
    {
      "cell_type": "code",
      "metadata": {
        "colab": {
          "base_uri": "https://localhost:8080/"
        },
        "id": "3_bZ8Ve3B6v8",
        "outputId": "9cba7bc5-d33a-4156-ae67-627a82b3f1e9"
      },
      "source": [
        "a_list = [ 1,2,3,4]\n",
        "print(a_list)\n"
      ],
      "execution_count": 2,
      "outputs": [
        {
          "output_type": "stream",
          "name": "stdout",
          "text": [
            "[1, 2, 3, 4]\n"
          ]
        }
      ]
    },
    {
      "cell_type": "markdown",
      "metadata": {
        "id": "bETQJ879CC3D"
      },
      "source": [
        "# 3.Loop\n"
      ]
    },
    {
      "cell_type": "code",
      "metadata": {
        "colab": {
          "base_uri": "https://localhost:8080/"
        },
        "id": "9XofijxoCFr5",
        "outputId": "20e30f69-1daa-4e74-d72b-51c960ce3275"
      },
      "source": [
        "for i in a_list:\n",
        "    print(i)\n",
        "    "
      ],
      "execution_count": 3,
      "outputs": [
        {
          "output_type": "stream",
          "name": "stdout",
          "text": [
            "1\n",
            "2\n",
            "3\n",
            "4\n"
          ]
        }
      ]
    },
    {
      "cell_type": "markdown",
      "metadata": {
        "id": "GjH2OuoICQ6w"
      },
      "source": [
        "# 4. Conditions\n"
      ]
    },
    {
      "cell_type": "code",
      "metadata": {
        "colab": {
          "base_uri": "https://localhost:8080/"
        },
        "id": "L1IVErO3CUbF",
        "outputId": "361fab4d-87db-434e-c8d0-2201b6d2294e"
      },
      "source": [
        "print(10%2) #Modula\n"
      ],
      "execution_count": 4,
      "outputs": [
        {
          "output_type": "stream",
          "name": "stdout",
          "text": [
            "0\n"
          ]
        }
      ]
    },
    {
      "cell_type": "code",
      "metadata": {
        "colab": {
          "base_uri": "https://localhost:8080/"
        },
        "id": "1lnPINGfClaP",
        "outputId": "2ba4f298-32dd-46d1-f4a2-78093c6daff8"
      },
      "source": [
        "print(23%2) #modula\n"
      ],
      "execution_count": 5,
      "outputs": [
        {
          "output_type": "stream",
          "name": "stdout",
          "text": [
            "1\n"
          ]
        }
      ]
    },
    {
      "cell_type": "code",
      "metadata": {
        "colab": {
          "base_uri": "https://localhost:8080/"
        },
        "id": "z358BD-zDBle",
        "outputId": "7f770da6-25e4-4503-90a8-86d1d37b422f"
      },
      "source": [
        "for i in a_list:\n",
        "    if i%2==1:\n",
        "     print(\"Odd Number\",i)\n",
        "    "
      ],
      "execution_count": 7,
      "outputs": [
        {
          "output_type": "stream",
          "name": "stdout",
          "text": [
            "Odd Number 1\n",
            "Odd Number 3\n"
          ]
        }
      ]
    },
    {
      "cell_type": "markdown",
      "metadata": {
        "id": "P1IS9oFSLmL2"
      },
      "source": [
        "## 5.Python Build In Functions\n",
        "- range\n",
        "- list\n",
        "- int\n",
        "- str\n"
      ]
    },
    {
      "cell_type": "code",
      "metadata": {
        "colab": {
          "base_uri": "https://localhost:8080/"
        },
        "id": "h0GqnpJrLtVd",
        "outputId": "7a1147df-ed90-47ae-9e94-20f0b93fe8ca"
      },
      "source": [
        "for i in range(10,20,2): #start=10,stop=20,step=2\n",
        "   print(i)\n"
      ],
      "execution_count": 8,
      "outputs": [
        {
          "output_type": "stream",
          "name": "stdout",
          "text": [
            "10\n",
            "12\n",
            "14\n",
            "16\n",
            "18\n"
          ]
        }
      ]
    },
    {
      "cell_type": "code",
      "metadata": {
        "colab": {
          "base_uri": "https://localhost:8080/"
        },
        "id": "HveOfg8dMDWd",
        "outputId": "f177fea9-40f3-44f4-984c-593ef4bd23eb"
      },
      "source": [
        "for j in range(0,5):\n",
        "   print(j)"
      ],
      "execution_count": 10,
      "outputs": [
        {
          "output_type": "stream",
          "name": "stdout",
          "text": [
            "0\n",
            "1\n",
            "2\n",
            "3\n",
            "4\n"
          ]
        }
      ]
    },
    {
      "cell_type": "code",
      "metadata": {
        "colab": {
          "base_uri": "https://localhost:8080/"
        },
        "id": "npy9GsdKMn2v",
        "outputId": "449fe9e0-89c8-4ae5-a859-47ebab370dc8"
      },
      "source": [
        "print(list(range(0,5)))"
      ],
      "execution_count": 11,
      "outputs": [
        {
          "output_type": "stream",
          "name": "stdout",
          "text": [
            "[0, 1, 2, 3, 4]\n"
          ]
        }
      ]
    },
    {
      "cell_type": "code",
      "metadata": {
        "colab": {
          "base_uri": "https://localhost:8080/"
        },
        "id": "qE0T_v7aNTnV",
        "outputId": "c300d317-09b7-45aa-ff84-b32645fe5c18"
      },
      "source": [
        "x = \"50\"\n",
        "type(x)"
      ],
      "execution_count": 12,
      "outputs": [
        {
          "output_type": "execute_result",
          "data": {
            "text/plain": [
              "str"
            ]
          },
          "metadata": {},
          "execution_count": 12
        }
      ]
    },
    {
      "cell_type": "code",
      "metadata": {
        "colab": {
          "base_uri": "https://localhost:8080/"
        },
        "id": "rMu2OWH8NvZv",
        "outputId": "c9f05a97-807d-48ea-8828-9bbfc1788d9f"
      },
      "source": [
        "y = int(x)\n",
        "type(y)"
      ],
      "execution_count": 13,
      "outputs": [
        {
          "output_type": "execute_result",
          "data": {
            "text/plain": [
              "int"
            ]
          },
          "metadata": {},
          "execution_count": 13
        }
      ]
    },
    {
      "cell_type": "code",
      "metadata": {
        "colab": {
          "base_uri": "https://localhost:8080/"
        },
        "id": "g4-5KigNN1I-",
        "outputId": "031a79e2-3cff-4431-8154-3ee6062aa6de"
      },
      "source": [
        "print(x,y)"
      ],
      "execution_count": 14,
      "outputs": [
        {
          "output_type": "stream",
          "name": "stdout",
          "text": [
            "50 50\n"
          ]
        }
      ]
    },
    {
      "cell_type": "markdown",
      "metadata": {
        "id": "hJ70u7ESOB8l"
      },
      "source": [
        "# 6.Accepting User inputs \n"
      ]
    },
    {
      "cell_type": "code",
      "metadata": {
        "colab": {
          "base_uri": "https://localhost:8080/"
        },
        "id": "bTVDLQi_OVrv",
        "outputId": "67ab0538-937b-4846-916d-025530f4891f"
      },
      "source": [
        "x= input(\"Enter a Number\")\n"
      ],
      "execution_count": 15,
      "outputs": [
        {
          "name": "stdout",
          "output_type": "stream",
          "text": [
            "Enter a Number5\n"
          ]
        }
      ]
    },
    {
      "cell_type": "code",
      "metadata": {
        "colab": {
          "base_uri": "https://localhost:8080/"
        },
        "id": "lPsJzcn4OkZH",
        "outputId": "530391ee-6cf6-47ca-d3d4-893bb1070b59"
      },
      "source": [
        "print(x)"
      ],
      "execution_count": 16,
      "outputs": [
        {
          "output_type": "stream",
          "name": "stdout",
          "text": [
            "5\n"
          ]
        }
      ]
    },
    {
      "cell_type": "code",
      "metadata": {
        "colab": {
          "base_uri": "https://localhost:8080/"
        },
        "id": "d9NkEBciOnwV",
        "outputId": "6b2694af-33f2-4cb7-a9e1-136b463bac83"
      },
      "source": [
        "type(x)"
      ],
      "execution_count": 17,
      "outputs": [
        {
          "output_type": "execute_result",
          "data": {
            "text/plain": [
              "str"
            ]
          },
          "metadata": {},
          "execution_count": 17
        }
      ]
    },
    {
      "cell_type": "code",
      "metadata": {
        "colab": {
          "base_uri": "https://localhost:8080/"
        },
        "id": "-J6CD2TaOu5z",
        "outputId": "8e5b3f9e-a02d-4f47-a9de-c63668f7b693"
      },
      "source": [
        "x= input(\"Enter a Number\")\n"
      ],
      "execution_count": 18,
      "outputs": [
        {
          "name": "stdout",
          "output_type": "stream",
          "text": [
            "Enter a NumberSwapan\n"
          ]
        }
      ]
    },
    {
      "cell_type": "code",
      "metadata": {
        "colab": {
          "base_uri": "https://localhost:8080/"
        },
        "id": "wjMUAuCWOz3O",
        "outputId": "3f8d5f52-91ff-4f5f-dfe8-d363da37b467"
      },
      "source": [
        "print(x)"
      ],
      "execution_count": 19,
      "outputs": [
        {
          "output_type": "stream",
          "name": "stdout",
          "text": [
            "Swapan\n"
          ]
        }
      ]
    },
    {
      "cell_type": "markdown",
      "metadata": {
        "id": "IyYek2NFO6DF"
      },
      "source": [
        "## 7.Exception Handling\n"
      ]
    },
    {
      "cell_type": "code",
      "metadata": {
        "colab": {
          "base_uri": "https://localhost:8080/",
          "height": 181
        },
        "id": "CUUu75aLO-_a",
        "outputId": "9ac5dd21-c6f2-48b3-82d5-bb8b25d3e8ca"
      },
      "source": [
        "y = int(x)\n",
        "print(y)"
      ],
      "execution_count": 20,
      "outputs": [
        {
          "output_type": "error",
          "ename": "ValueError",
          "evalue": "ignored",
          "traceback": [
            "\u001b[0;31m---------------------------------------------------------------------------\u001b[0m",
            "\u001b[0;31mValueError\u001b[0m                                Traceback (most recent call last)",
            "\u001b[0;32m<ipython-input-20-049714fa7447>\u001b[0m in \u001b[0;36m<module>\u001b[0;34m()\u001b[0m\n\u001b[0;32m----> 1\u001b[0;31m \u001b[0my\u001b[0m \u001b[0;34m=\u001b[0m \u001b[0mint\u001b[0m\u001b[0;34m(\u001b[0m\u001b[0mx\u001b[0m\u001b[0;34m)\u001b[0m\u001b[0;34m\u001b[0m\u001b[0;34m\u001b[0m\u001b[0m\n\u001b[0m\u001b[1;32m      2\u001b[0m \u001b[0mprint\u001b[0m\u001b[0;34m(\u001b[0m\u001b[0my\u001b[0m\u001b[0;34m)\u001b[0m\u001b[0;34m\u001b[0m\u001b[0;34m\u001b[0m\u001b[0m\n",
            "\u001b[0;31mValueError\u001b[0m: invalid literal for int() with base 10: 'Swapan'"
          ]
        }
      ]
    },
    {
      "cell_type": "code",
      "metadata": {
        "colab": {
          "base_uri": "https://localhost:8080/"
        },
        "id": "Kjc4rUDDPsyk",
        "outputId": "a3e15233-5bb3-4672-92c2-7112f6d6591b"
      },
      "source": [
        "x = input(\"Enter an integer\")\n",
        "try:\n",
        "    y=int(x)\n",
        "    print(\"Got Integer\",x)\n",
        "except:\n",
        "    print(\"Unable to convert to an integer\")"
      ],
      "execution_count": 21,
      "outputs": [
        {
          "output_type": "stream",
          "name": "stdout",
          "text": [
            "Enter an integerswapan\n",
            "Unable to convert to an integer\n"
          ]
        }
      ]
    },
    {
      "cell_type": "markdown",
      "metadata": {
        "id": "6IAXvH6lQRSR"
      },
      "source": [
        "## 8.Infinite Loop"
      ]
    },
    {
      "cell_type": "code",
      "metadata": {
        "colab": {
          "base_uri": "https://localhost:8080/"
        },
        "id": "BFgCqnp9QPJO",
        "outputId": "4283d0b0-2f07-4d16-c230-4fb6ee6acacb"
      },
      "source": [
        "while True:\n",
        "  x= input(\"Please enter an integer\")\n",
        "  try:\n",
        "      y=int(x)\n",
        "      print(\"Got Integer\",x)\n",
        "      break\n",
        "  except:\n",
        "      print(\"Unable to convert to an integer\")"
      ],
      "execution_count": 23,
      "outputs": [
        {
          "output_type": "stream",
          "name": "stdout",
          "text": [
            "Please enter an integerswapan\n",
            "Unable to convert to an integer\n",
            "Please enter an integer15\n",
            "Got Integer 15\n"
          ]
        }
      ]
    },
    {
      "cell_type": "code",
      "metadata": {
        "colab": {
          "base_uri": "https://localhost:8080/"
        },
        "id": "Z46R7Fw_YUWc",
        "outputId": "7e72d9c3-0966-423c-9f81-495df2fb0949"
      },
      "source": [
        "the_list = []\n",
        "\n",
        "for i in range(0,5):\n",
        "    while True:\n",
        "        x = input(\"Please enter an integer:\")\n",
        "        try:\n",
        "            y = int(x)\n",
        "            the_list.append(y)\n",
        "            print(\"got integer:\", y)\n",
        "            break\n",
        "        except:\n",
        "            print(\"You must enter an integer. Please try again.\")\n",
        "\n",
        "\n",
        "print(\"You have entered:\", the_list)"
      ],
      "execution_count": 24,
      "outputs": [
        {
          "output_type": "stream",
          "name": "stdout",
          "text": [
            "Please enter an integer:5\n",
            "got integer: 5\n",
            "Please enter an integer:10\n",
            "got integer: 10\n",
            "Please enter an integer:25\n",
            "got integer: 25\n",
            "Please enter an integer:6\n",
            "got integer: 6\n",
            "Please enter an integer:2\n",
            "got integer: 2\n",
            "You have entered: [5, 10, 25, 6, 2]\n"
          ]
        }
      ]
    },
    {
      "cell_type": "code",
      "metadata": {
        "colab": {
          "base_uri": "https://localhost:8080/"
        },
        "id": "o-fjiR2gYeX9",
        "outputId": "3f5808a6-281e-41e2-8568-ad1fc39a8e68"
      },
      "source": [
        "total = 0\n",
        "\n",
        "for i in the_list:\n",
        "    total += i    # total =total+1\n",
        "\n",
        "print(\"total = \", total)"
      ],
      "execution_count": 25,
      "outputs": [
        {
          "output_type": "stream",
          "name": "stdout",
          "text": [
            "total =  48\n"
          ]
        }
      ]
    },
    {
      "cell_type": "code",
      "metadata": {
        "colab": {
          "base_uri": "https://localhost:8080/"
        },
        "id": "WOGnZFkrYmT2",
        "outputId": "11552116-32dc-4759-a4ca-d54bcec4d979"
      },
      "source": [
        "\n",
        "mean = total / len(the_list)\n",
        "print(mean)"
      ],
      "execution_count": 26,
      "outputs": [
        {
          "output_type": "stream",
          "name": "stdout",
          "text": [
            "9.6\n"
          ]
        }
      ]
    }
  ]
}