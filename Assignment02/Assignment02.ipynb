{
  "nbformat": 4,
  "nbformat_minor": 0,
  "metadata": {
    "colab": {
      "name": "Assignment02.ipynb",
      "provenance": [],
      "authorship_tag": "ABX9TyOrd7jpgLodmbsfgxgNumOq",
      "include_colab_link": true
    },
    "kernelspec": {
      "name": "python3",
      "display_name": "Python 3"
    },
    "language_info": {
      "name": "python"
    }
  },
  "cells": [
    {
      "cell_type": "markdown",
      "metadata": {
        "id": "view-in-github",
        "colab_type": "text"
      },
      "source": [
        "<a href=\"https://colab.research.google.com/github/SwapanGupt/data690_SwapanGupta/blob/main/Assignment02/Assignment02.ipynb\" target=\"_parent\"><img src=\"https://colab.research.google.com/assets/colab-badge.svg\" alt=\"Open In Colab\"/></a>"
      ]
    },
    {
      "cell_type": "markdown",
      "metadata": {
        "id": "i86vxjaItut2"
      },
      "source": [
        "## 1. Enter 10 Integers"
      ]
    },
    {
      "cell_type": "code",
      "metadata": {
        "colab": {
          "base_uri": "https://localhost:8080/"
        },
        "id": "PslZarx8sYx2",
        "outputId": "4ad65eef-0f84-49e9-d813-47fde18a284f"
      },
      "source": [
        "l = []  \n",
        "\n",
        "for i in range(0,10):\n",
        "  while True:\n",
        "    x= input(\"Please enter an integer:\")\n",
        "    try:\n",
        "      y=int(x)\n",
        "      l.append(y)              \n",
        "      print(\"Got integer:\", y)\n",
        "      break\n",
        "    except:  \n",
        "      print(\"Entered value is string. Please try again.:\")\n",
        "\n",
        "print(\"You've entered:\", l)"
      ],
      "execution_count": 45,
      "outputs": [
        {
          "output_type": "stream",
          "name": "stdout",
          "text": [
            "Please enter an integer:1\n",
            "Got integer: 1\n",
            "Please enter an integer:g\n",
            "Entered value is string. Please try again.:\n",
            "Please enter an integer:4\n",
            "Got integer: 4\n",
            "Please enter an integer:6\n",
            "Got integer: 6\n",
            "Please enter an integer:6\n",
            "Got integer: 6\n",
            "Please enter an integer:4\n",
            "Got integer: 4\n",
            "Please enter an integer:10\n",
            "Got integer: 10\n",
            "Please enter an integer:16\n",
            "Got integer: 16\n",
            "Please enter an integer:12\n",
            "Got integer: 12\n",
            "Please enter an integer:4\n",
            "Got integer: 4\n",
            "Please enter an integer:6\n",
            "Got integer: 6\n",
            "You've entered: [1, 4, 6, 6, 4, 10, 16, 12, 4, 6]\n"
          ]
        }
      ]
    },
    {
      "cell_type": "markdown",
      "metadata": {
        "id": "PZnIKC9RuZ4W"
      },
      "source": [
        "## 2. Minimum Value in the List"
      ]
    },
    {
      "cell_type": "code",
      "metadata": {
        "colab": {
          "base_uri": "https://localhost:8080/"
        },
        "id": "7WyaokJ0sjps",
        "outputId": "ffe20b97-a6a6-45c5-ea10-9b0dceaf679b"
      },
      "source": [
        "min = l[0]\n",
        "for i in range(len(l)):\n",
        "    if l[i] < min:\n",
        "        min = l[i] \n",
        "print(\"Minimum value in the list: \",min)"
      ],
      "execution_count": 46,
      "outputs": [
        {
          "output_type": "stream",
          "name": "stdout",
          "text": [
            "Minimum value in the list:  1\n"
          ]
        }
      ]
    },
    {
      "cell_type": "markdown",
      "metadata": {
        "id": "MjfrS1Yluhxm"
      },
      "source": [
        "## 3.Maximum Value in the List"
      ]
    },
    {
      "cell_type": "code",
      "metadata": {
        "colab": {
          "base_uri": "https://localhost:8080/"
        },
        "id": "yLKWrGA9sp0y",
        "outputId": "057c05a5-63b8-4db6-e5ff-973a1d48f0f8"
      },
      "source": [
        "max = l[0]\n",
        "for i in range(len(l)):\n",
        "    if l[i] > max:\n",
        "        max = l[i] \n",
        "print(\"Maximum value in the list: \",max)"
      ],
      "execution_count": 47,
      "outputs": [
        {
          "output_type": "stream",
          "name": "stdout",
          "text": [
            "Maximum value in the list:  16\n"
          ]
        }
      ]
    },
    {
      "cell_type": "markdown",
      "metadata": {
        "id": "QE24XOdgupNs"
      },
      "source": [
        "## 4.Range"
      ]
    },
    {
      "cell_type": "code",
      "metadata": {
        "colab": {
          "base_uri": "https://localhost:8080/"
        },
        "id": "w4GsLv2Ws0bO",
        "outputId": "7a173eff-d612-4d56-a4c3-1ac0ccf63741"
      },
      "source": [
        "Range= max-min\n",
        "print(\"Range of the list:\", Range)"
      ],
      "execution_count": 48,
      "outputs": [
        {
          "output_type": "stream",
          "name": "stdout",
          "text": [
            "Range of the list: 15\n"
          ]
        }
      ]
    },
    {
      "cell_type": "markdown",
      "metadata": {
        "id": "mwdl2sVQuriS"
      },
      "source": [
        "## 5.Mean\n",
        "- Average of all the elements in the list"
      ]
    },
    {
      "cell_type": "code",
      "metadata": {
        "colab": {
          "base_uri": "https://localhost:8080/"
        },
        "id": "huLYqbxUs103",
        "outputId": "dbfaf67d-ce40-4482-e688-23de652cc46c"
      },
      "source": [
        "Sum=0\n",
        "\n",
        "for i in l:\n",
        "  Sum +=i                      \n",
        "print(\"Sum =\",Sum)  \n",
        "mean=Sum/len(l)\n",
        "print(\"Mean is:\", mean)"
      ],
      "execution_count": 49,
      "outputs": [
        {
          "output_type": "stream",
          "name": "stdout",
          "text": [
            "Sum = 69\n",
            "Mean is: 6.9\n"
          ]
        }
      ]
    },
    {
      "cell_type": "markdown",
      "metadata": {
        "id": "BUUe11ZvuujD"
      },
      "source": [
        "## 6.Variance\n",
        "- Difference between the squared values of mean and individual elements divided by number of elements."
      ]
    },
    {
      "cell_type": "code",
      "metadata": {
        "colab": {
          "base_uri": "https://localhost:8080/"
        },
        "id": "7CUdCyNWtW1h",
        "outputId": "7421dd0c-f538-482a-f87d-a8e9f35822bd"
      },
      "source": [
        "for i in range(len(l)): \n",
        "  l[i] = l[i] - mean \n",
        "for i in l:\n",
        " a=i**2\n",
        "addition_of_squares=0  \n",
        "for i in l: \n",
        "  addition_of_squares+=i*i;\n",
        "\n",
        "var = addition_of_squares/len(l)\n",
        "print(\"Variance of list:\", var)"
      ],
      "execution_count": 50,
      "outputs": [
        {
          "output_type": "stream",
          "name": "stdout",
          "text": [
            "Variance of list: 18.09\n"
          ]
        }
      ]
    },
    {
      "cell_type": "markdown",
      "metadata": {
        "id": "p2NEaueEuxbT"
      },
      "source": [
        "## 7.Standard Deviation\n",
        "- Squared root of Variance is Standard Deviation."
      ]
    },
    {
      "cell_type": "code",
      "metadata": {
        "colab": {
          "base_uri": "https://localhost:8080/"
        },
        "id": "KEnymkUptBfn",
        "outputId": "d8b5153c-8077-4d06-c430-617f229c4fee"
      },
      "source": [
        "Result = var ** 0.5\n",
        "print(\"Standard Deviation of list:\",Result)"
      ],
      "execution_count": 51,
      "outputs": [
        {
          "output_type": "stream",
          "name": "stdout",
          "text": [
            "Standard Deviation of list: 4.253234063627348\n"
          ]
        }
      ]
    }
  ]
}