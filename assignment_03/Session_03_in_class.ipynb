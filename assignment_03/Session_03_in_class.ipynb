{
  "nbformat": 4,
  "nbformat_minor": 0,
  "metadata": {
    "colab": {
      "name": "Session_03_in_class.ipynb",
      "provenance": [],
      "authorship_tag": "ABX9TyPB926fdIIRIiJO3sBNRb/r",
      "include_colab_link": true
    },
    "kernelspec": {
      "name": "python3",
      "display_name": "Python 3"
    },
    "language_info": {
      "name": "python"
    }
  },
  "cells": [
    {
      "cell_type": "markdown",
      "metadata": {
        "id": "view-in-github",
        "colab_type": "text"
      },
      "source": [
        "<a href=\"https://colab.research.google.com/github/SwapanGupt/data690_SwapanGupta/blob/main/assignment_03/Session_03_in_class.ipynb\" target=\"_parent\"><img src=\"https://colab.research.google.com/assets/colab-badge.svg\" alt=\"Open In Colab\"/></a>"
      ]
    },
    {
      "cell_type": "markdown",
      "metadata": {
        "id": "gzS4dmtL857K"
      },
      "source": [
        "# Session 3 In Class Practice\n",
        "- Swapan Gupta\n",
        "- September 16, 2021"
      ]
    },
    {
      "cell_type": "markdown",
      "metadata": {
        "id": "BXDPqjxV9j7d"
      },
      "source": [
        "## 1.List Comprehension"
      ]
    },
    {
      "cell_type": "code",
      "metadata": {
        "colab": {
          "base_uri": "https://localhost:8080/"
        },
        "id": "M8xtxwfw833K",
        "outputId": "bc900f48-96bd-4b2b-ef13-fb817b3c1290"
      },
      "source": [
        "# Using For Loop\n",
        "x = [1,3,4,-2,5]\n",
        "\n",
        "y = []\n",
        "\n",
        "for i in x:\n",
        "    new_number = i + 10\n",
        "    y.append(new_number)\n",
        "print(y)"
      ],
      "execution_count": 1,
      "outputs": [
        {
          "output_type": "stream",
          "name": "stdout",
          "text": [
            "[11, 13, 14, 8, 15]\n"
          ]
        }
      ]
    },
    {
      "cell_type": "code",
      "metadata": {
        "colab": {
          "base_uri": "https://localhost:8080/"
        },
        "id": "o9bU4zJ2--qW",
        "outputId": "31d761d5-e5d3-4e2c-927f-a8fe3e9569d0"
      },
      "source": [
        "# New way using List Comprehension\n",
        "\n",
        "y = [i+10 for i in x]\n",
        "\n",
        "print(y)"
      ],
      "execution_count": 3,
      "outputs": [
        {
          "output_type": "stream",
          "name": "stdout",
          "text": [
            "[11, 13, 14, 8, 15]\n"
          ]
        }
      ]
    },
    {
      "cell_type": "markdown",
      "metadata": {
        "id": "TKBrvOG9_bYo"
      },
      "source": [
        "## 2. User Defined Functions"
      ]
    },
    {
      "cell_type": "code",
      "metadata": {
        "id": "zOV6loPA_VfX"
      },
      "source": [
        "def addition(a,b):\n",
        "  return a+b\n",
        "\n"
      ],
      "execution_count": 4,
      "outputs": []
    },
    {
      "cell_type": "code",
      "metadata": {
        "colab": {
          "base_uri": "https://localhost:8080/"
        },
        "id": "E2yAZMfhAOp9",
        "outputId": "a1ce7556-32fe-4ecf-f6b0-ace78cb00ea6"
      },
      "source": [
        "y = addition(1,5)\n",
        "print(y)"
      ],
      "execution_count": 5,
      "outputs": [
        {
          "output_type": "stream",
          "name": "stdout",
          "text": [
            "6\n"
          ]
        }
      ]
    },
    {
      "cell_type": "code",
      "metadata": {
        "id": "GN2318hdAdcM"
      },
      "source": [
        "def division(a,b):\n",
        "  return a/b"
      ],
      "execution_count": 6,
      "outputs": []
    },
    {
      "cell_type": "code",
      "metadata": {
        "colab": {
          "base_uri": "https://localhost:8080/"
        },
        "id": "LiApmKR9AhZH",
        "outputId": "b9c8ac38-20a0-44a6-aad4-58993ab41b41"
      },
      "source": [
        "z= division(10,5)\n",
        "print(z)"
      ],
      "execution_count": 7,
      "outputs": [
        {
          "output_type": "stream",
          "name": "stdout",
          "text": [
            "2.0\n"
          ]
        }
      ]
    }
  ]
}