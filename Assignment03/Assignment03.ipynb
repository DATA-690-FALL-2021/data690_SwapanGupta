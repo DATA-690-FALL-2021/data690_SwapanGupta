{
  "nbformat": 4,
  "nbformat_minor": 0,
  "metadata": {
    "colab": {
      "name": "Assignment03.ipynb",
      "provenance": [],
      "authorship_tag": "ABX9TyPA/5jFo8nS1Hi+67Ygtslu",
      "include_colab_link": true
    },
    "kernelspec": {
      "name": "python3",
      "display_name": "Python 3"
    },
    "language_info": {
      "name": "python"
    }
  },
  "cells": [
    {
      "cell_type": "markdown",
      "metadata": {
        "id": "view-in-github",
        "colab_type": "text"
      },
      "source": [
        "<a href=\"https://colab.research.google.com/github/SwapanGupt/data690_SwapanGupta/blob/main/Assignment03/Assignment03.ipynb\" target=\"_parent\"><img src=\"https://colab.research.google.com/assets/colab-badge.svg\" alt=\"Open In Colab\"/></a>"
      ]
    },
    {
      "cell_type": "markdown",
      "metadata": {
        "id": "4Gb9oo3ILC3d"
      },
      "source": [
        "# Assignment 3"
      ]
    },
    {
      "cell_type": "markdown",
      "metadata": {
        "id": "78WqlfUMLH3O"
      },
      "source": [
        "## Write a program that generates 100 random integers between 0 and 9"
      ]
    },
    {
      "cell_type": "markdown",
      "metadata": {
        "id": "koHVUb0ALL-p"
      },
      "source": [
        "## 1. Print them in a 10 by 10 matrix neatly arranged like the following (one space between each number):"
      ]
    },
    {
      "cell_type": "code",
      "metadata": {
        "colab": {
          "base_uri": "https://localhost:8080/"
        },
        "id": "UfLa-SAd3xe-",
        "outputId": "de6faa28-5096-4082-f662-b6aca7ad40aa"
      },
      "source": [
        "import random as rd\n",
        "\n",
        "for i in range(10):\n",
        "    for j in range(10):\n",
        "        print(rd.randint(0, 9),end=\" \")\n",
        "    print(\"\")   "
      ],
      "execution_count": null,
      "outputs": [
        {
          "output_type": "stream",
          "name": "stdout",
          "text": [
            "4 1 3 7 6 7 6 9 7 2 \n",
            "5 1 8 8 3 5 4 5 3 1 \n",
            "3 8 1 3 2 8 8 8 1 3 \n",
            "3 5 6 0 2 9 7 7 7 4 \n",
            "7 9 8 5 4 1 2 5 1 6 \n",
            "4 5 3 3 2 3 6 9 7 3 \n",
            "1 6 0 9 9 9 9 4 1 1 \n",
            "2 7 7 0 3 3 8 8 7 1 \n",
            "5 8 3 9 9 6 2 8 6 0 \n",
            "8 7 4 6 1 2 4 8 2 7 \n"
          ]
        }
      ]
    },
    {
      "cell_type": "markdown",
      "metadata": {
        "id": "OmZKOPIzLSWY"
      },
      "source": [
        "## 2.If the random number is an odd number, print \"@\" instead"
      ]
    },
    {
      "cell_type": "code",
      "metadata": {
        "colab": {
          "base_uri": "https://localhost:8080/"
        },
        "id": "8KY-0wXL36dk",
        "outputId": "5abb1106-c91c-484a-ef92-87f7fe7dce46"
      },
      "source": [
        "for i in range(10):\n",
        "    for j in range(10):\n",
        "        a=rd.randint(0,9)\n",
        "        if(a%2!=0):\n",
        "            print(\"@\",end=\" \")\n",
        "        else:\n",
        "            print(a,end=\" \")\n",
        "    print(\"\")"
      ],
      "execution_count": null,
      "outputs": [
        {
          "output_type": "stream",
          "name": "stdout",
          "text": [
            "@ 4 6 0 @ @ @ 2 6 8 \n",
            "0 @ 6 2 2 2 @ 8 8 2 \n",
            "@ @ 4 @ @ 8 4 8 @ @ \n",
            "@ 0 6 @ 0 0 @ @ 6 @ \n",
            "@ @ 2 @ 2 @ @ @ @ 4 \n",
            "8 @ 4 @ @ 0 @ @ 0 @ \n",
            "@ 2 @ @ @ 8 @ @ 6 @ \n",
            "@ @ @ 8 @ 4 8 2 @ 6 \n",
            "@ 6 6 4 @ @ 0 @ 0 @ \n",
            "6 8 8 4 @ 6 @ @ 4 @ \n"
          ]
        }
      ]
    },
    {
      "cell_type": "markdown",
      "metadata": {
        "id": "QNWDWTL-LWMo"
      },
      "source": [
        "## 3.Calculate and Print the total of each row separated by *"
      ]
    },
    {
      "cell_type": "code",
      "metadata": {
        "colab": {
          "base_uri": "https://localhost:8080/"
        },
        "id": "JM4ayGmc4B0K",
        "outputId": "f234fcf4-7ea9-4dc8-9651-1ab9f54ad59c"
      },
      "source": [
        "for i in range(10):\n",
        "    result=0\n",
        "    for j in range(10):\n",
        "        val =rd.randint(0, 9)\n",
        "        result+=val\n",
        "        print(val,end=\" \")\n",
        "    print(\"*\",result) "
      ],
      "execution_count": null,
      "outputs": [
        {
          "output_type": "stream",
          "name": "stdout",
          "text": [
            "6 3 0 2 5 3 1 6 2 7 * 35\n",
            "7 8 7 6 7 7 3 0 7 5 * 57\n",
            "3 5 0 3 4 0 0 9 2 3 * 29\n",
            "0 4 5 1 1 4 0 3 0 8 * 26\n",
            "3 9 9 8 7 4 4 1 6 4 * 55\n",
            "8 6 4 7 1 4 7 9 7 1 * 54\n",
            "4 5 8 2 1 2 4 5 8 8 * 47\n",
            "5 1 8 7 5 6 8 5 6 5 * 56\n",
            "0 9 8 5 8 8 9 8 2 2 * 59\n",
            "6 5 7 2 6 9 1 2 7 9 * 54\n"
          ]
        }
      ]
    },
    {
      "cell_type": "markdown",
      "metadata": {
        "id": "I1ieHZNhLZ30"
      },
      "source": [
        "## 4.Optional: Surround the matrix with asterisks (*)"
      ]
    },
    {
      "cell_type": "code",
      "metadata": {
        "colab": {
          "base_uri": "https://localhost:8080/"
        },
        "id": "B3NK54Zi4Eml",
        "outputId": "27005543-7503-41d3-a6a2-e93e6e98dd43"
      },
      "source": [
        "for i in range(12):\n",
        "    print(\"*\",end=\"\")\n",
        "    for j in range(10):\n",
        "        if(i<1 or i>=11):\n",
        "            print(\"**\", end=\"\")\n",
        "        else:    \n",
        "            print(rd.randint(0, 9),end=\" \")\n",
        "    print(\"*\") "
      ],
      "execution_count": null,
      "outputs": [
        {
          "output_type": "stream",
          "name": "stdout",
          "text": [
            "**********************\n",
            "*1 7 1 5 0 1 6 8 4 3 *\n",
            "*1 5 6 1 3 3 0 9 0 5 *\n",
            "*7 6 0 2 5 0 1 8 7 6 *\n",
            "*0 4 2 6 7 1 8 9 2 6 *\n",
            "*2 7 0 9 6 6 0 2 4 6 *\n",
            "*2 2 2 3 2 1 6 2 1 1 *\n",
            "*0 9 3 6 1 9 1 2 3 9 *\n",
            "*2 0 7 3 9 6 4 5 4 7 *\n",
            "*6 2 5 5 8 6 2 9 1 1 *\n",
            "*2 2 7 4 3 4 6 0 0 6 *\n",
            "**********************\n"
          ]
        }
      ]
    },
    {
      "cell_type": "markdown",
      "metadata": {
        "id": "RSAt7CIJLnzE"
      },
      "source": [
        "## 5.Optional (challenging): Calculate and Print the total of each row and column"
      ]
    },
    {
      "cell_type": "code",
      "metadata": {
        "id": "QMh34VNM4K6T",
        "colab": {
          "base_uri": "https://localhost:8080/"
        },
        "outputId": "e9e7ab18-a76b-442a-d995-976af9ba30c6"
      },
      "source": [
        "arr = [0,0,0,0,0,0,0,0,0,0]\n",
        "for i in range(12):\n",
        "    row_result=0\n",
        "    for j in range(10):\n",
        "        if(i==10):\n",
        "            print(\"*\",end=\" \")\n",
        "        elif(i==11):\n",
        "            print(arr[j], end=\" \")\n",
        "        else:    \n",
        "            val =rd.randint(0, 9)\n",
        "            arr[j]+=val\n",
        "            row_result+=val\n",
        "            print(val,end=\" \")\n",
        "    if(i<10):        \n",
        "        print(\"*\",row_result)    \n",
        "    else:\n",
        "        print()"
      ],
      "execution_count": null,
      "outputs": [
        {
          "output_type": "stream",
          "name": "stdout",
          "text": [
            "8 8 5 2 8 9 5 5 8 4 * 62\n",
            "6 2 6 4 7 4 2 4 2 9 * 46\n",
            "6 8 1 5 2 9 5 8 1 3 * 48\n",
            "9 4 1 3 0 4 9 6 6 7 * 49\n",
            "5 4 0 5 4 3 9 7 0 2 * 39\n",
            "6 7 0 7 9 1 8 5 4 5 * 52\n",
            "7 4 2 0 8 0 3 7 0 3 * 34\n",
            "7 1 9 3 3 2 2 7 0 9 * 43\n",
            "4 5 9 9 2 6 5 5 8 5 * 58\n",
            "3 4 2 3 1 2 0 5 9 4 * 33\n",
            "* * * * * * * * * * \n",
            "61 47 35 41 44 40 48 59 38 51 \n"
          ]
        }
      ]
    }
  ]
}