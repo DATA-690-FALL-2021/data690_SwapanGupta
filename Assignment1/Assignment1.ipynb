{
  "nbformat": 4,
  "nbformat_minor": 0,
  "metadata": {
    "colab": {
      "name": "Assignment1.ipynb",
      "provenance": [],
      "authorship_tag": "ABX9TyMSATxncVXDv+pg0lcGlimp",
      "include_colab_link": true
    },
    "kernelspec": {
      "name": "python3",
      "display_name": "Python 3"
    },
    "language_info": {
      "name": "python"
    }
  },
  "cells": [
    {
      "cell_type": "markdown",
      "metadata": {
        "id": "view-in-github",
        "colab_type": "text"
      },
      "source": [
        "<a href=\"https://colab.research.google.com/github/SwapanGupt/data690_SwapanGupta/blob/main/Assignment1/Assignment1.ipynb\" target=\"_parent\"><img src=\"https://colab.research.google.com/assets/colab-badge.svg\" alt=\"Open In Colab\"/></a>"
      ]
    },
    {
      "cell_type": "markdown",
      "metadata": {
        "id": "Qv7LxTuuOjA3"
      },
      "source": [
        "# Assignment 1 for Data690\n",
        "- Instructor: Dr Jay Wang\n",
        "- Student : Swapan Gupta Chollati\n",
        "- Date: 09/02/2021\n",
        "\n",
        "This is for Demonstrating the use of Jupyer Notebook"
      ]
    },
    {
      "cell_type": "markdown",
      "metadata": {
        "id": "flMFsvekRMRR"
      },
      "source": [
        "Simplest Python Code\n"
      ]
    },
    {
      "cell_type": "code",
      "metadata": {
        "colab": {
          "base_uri": "https://localhost:8080/"
        },
        "id": "46RvNt7CQMJ1",
        "outputId": "b747f47d-228f-426d-e700-3d511cd008c8"
      },
      "source": [
        "print(\"Hello world\")\n"
      ],
      "execution_count": 1,
      "outputs": [
        {
          "output_type": "stream",
          "name": "stdout",
          "text": [
            "Hello world\n"
          ]
        }
      ]
    },
    {
      "cell_type": "markdown",
      "metadata": {
        "id": "aImIVZ9SQxxB"
      },
      "source": [
        "Multiplication"
      ]
    },
    {
      "cell_type": "code",
      "metadata": {
        "colab": {
          "base_uri": "https://localhost:8080/"
        },
        "id": "ZuaRSntxOdMe",
        "outputId": "7fae6c7c-ee1c-4243-999c-3088737ec46f"
      },
      "source": [
        "x = 10*2\n",
        "print(x)"
      ],
      "execution_count": 2,
      "outputs": [
        {
          "output_type": "stream",
          "name": "stdout",
          "text": [
            "20\n"
          ]
        }
      ]
    },
    {
      "cell_type": "markdown",
      "metadata": {
        "id": "g8JpS6wRQ2fs"
      },
      "source": [
        "Divison\n"
      ]
    },
    {
      "cell_type": "code",
      "metadata": {
        "colab": {
          "base_uri": "https://localhost:8080/"
        },
        "id": "yfSDd-cfQmrR",
        "outputId": "bf65ba8f-4741-43f6-992a-e207a0d486cc"
      },
      "source": [
        "y=200\n",
        "z=y/x\n",
        "print(z)"
      ],
      "execution_count": 3,
      "outputs": [
        {
          "output_type": "stream",
          "name": "stdout",
          "text": [
            "10.0\n"
          ]
        }
      ]
    }
  ]
}