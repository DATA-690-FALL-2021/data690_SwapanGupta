{
  "nbformat": 4,
  "nbformat_minor": 0,
  "metadata": {
    "colab": {
      "name": "In-Class-practice-9.ipynb",
      "provenance": [],
      "collapsed_sections": [],
      "authorship_tag": "ABX9TyMrWdOD0H/sEnuwYSLkCSl/",
      "include_colab_link": true
    },
    "kernelspec": {
      "name": "python3",
      "display_name": "Python 3"
    },
    "language_info": {
      "name": "python"
    }
  },
  "cells": [
    {
      "cell_type": "markdown",
      "metadata": {
        "id": "view-in-github",
        "colab_type": "text"
      },
      "source": [
        "<a href=\"https://colab.research.google.com/github/SwapanGupt/data690_SwapanGupta/blob/main/Assignment09/In_Class_practice_9.ipynb\" target=\"_parent\"><img src=\"https://colab.research.google.com/assets/colab-badge.svg\" alt=\"Open In Colab\"/></a>"
      ]
    },
    {
      "cell_type": "markdown",
      "metadata": {
        "id": "wiIMujgbRBh9"
      },
      "source": [
        "# In Class Practice 9\n",
        "- Name: Swapan Gupta\n",
        "- Date:10/28/2021"
      ]
    },
    {
      "cell_type": "code",
      "metadata": {
        "id": "IvQfrnB6Q51k"
      },
      "source": [
        "import math_function as mf"
      ],
      "execution_count": 1,
      "outputs": []
    },
    {
      "cell_type": "code",
      "metadata": {
        "colab": {
          "base_uri": "https://localhost:8080/"
        },
        "id": "aolYf9eeR6h9",
        "outputId": "185bdeb9-f8af-4e9e-fc46-d4998b134db2"
      },
      "source": [
        "a= (input(\"Enter a number:\"))"
      ],
      "execution_count": 2,
      "outputs": [
        {
          "name": "stdout",
          "output_type": "stream",
          "text": [
            "Enter a number:5\n"
          ]
        }
      ]
    },
    {
      "cell_type": "code",
      "metadata": {
        "colab": {
          "base_uri": "https://localhost:8080/"
        },
        "id": "BzzLG49JSENc",
        "outputId": "4a118fae-38c6-40e7-8b97-d51011357e9a"
      },
      "source": [
        "b= (input(\"Enter a number:\"))"
      ],
      "execution_count": 3,
      "outputs": [
        {
          "name": "stdout",
          "output_type": "stream",
          "text": [
            "Enter a number:6\n"
          ]
        }
      ]
    },
    {
      "cell_type": "code",
      "metadata": {
        "colab": {
          "base_uri": "https://localhost:8080/"
        },
        "id": "Ipcvmrf-SKmA",
        "outputId": "6efc4c83-7741-4bc0-8690-eabcc3bee69d"
      },
      "source": [
        "c= mf.addition(a,b)\n",
        "print(c)"
      ],
      "execution_count": 4,
      "outputs": [
        {
          "output_type": "stream",
          "name": "stdout",
          "text": [
            "56\n"
          ]
        }
      ]
    },
    {
      "cell_type": "code",
      "metadata": {
        "colab": {
          "base_uri": "https://localhost:8080/"
        },
        "id": "oRFLTb_gUuF_",
        "outputId": "b3f86fbf-86c6-4597-837c-a3c6f222c444"
      },
      "source": [
        "a = 26\n",
        "b = 5\n",
        "\n",
        "c= mf.addition(a,b)\n",
        "print(c)"
      ],
      "execution_count": 5,
      "outputs": [
        {
          "output_type": "stream",
          "name": "stdout",
          "text": [
            "7\n"
          ]
        }
      ]
    }
  ]
}